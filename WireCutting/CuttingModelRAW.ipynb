{
 "cells": [
  {
   "cell_type": "code",
   "execution_count": null,
   "metadata": {},
   "outputs": [],
   "source": [
    "#This program is a raw version of the cutting program that has all the functions within the file. For a user-friendly approach please refer to WireCutting/main.py\n",
    "#Most of the testing were done using this file for easier troubleshooting and access to functions. The current setup is for an 8-3 Circuit cut."
   ]
  },
  {
   "cell_type": "code",
   "execution_count": null,
   "metadata": {},
   "outputs": [],
   "source": [
    "import os\n",
    "os.environ[\"TF_USE_LEGACY_KERAS\"] = \"1\"\n",
    "\n",
    "import re\n",
    "import pennylane as qml\n",
    "import numpy as np\n",
    "import tensorflow as tf\n",
    "import tf_keras as keras\n",
    "import matplotlib.pyplot as plt\n",
    "from sklearn.model_selection import train_test_split\n",
    "from sklearn.datasets import load_digits\n",
    "import time\n",
    "from silence_tensorflow import silence_tensorflow\n",
    "silence_tensorflow()\n",
    "tf.keras.backend.set_floatx('float64')"
   ]
  },
  {
   "cell_type": "code",
   "execution_count": null,
   "metadata": {},
   "outputs": [],
   "source": [
    "n_epochs = 50   # Number of optimization epochs\n",
    "n_layers = 2    # Number of random layers\n",
    "n_train = 1600    # Size of the train dataset\n",
    "n_test = 400     # Size of the test dataset\n",
    "\n",
    "droprate=0.25"
   ]
  },
  {
   "cell_type": "code",
   "execution_count": null,
   "metadata": {},
   "outputs": [],
   "source": [
    "from sklearn.datasets import fetch_openml\n",
    "from sklearn.utils import check_random_state\n",
    "from sklearn.model_selection import train_test_split\n",
    "from sklearn.preprocessing import StandardScaler\n",
    "\n",
    "mnist_dataset = keras.datasets.mnist\n",
    "(X_train, y_train), (X_test, y_test) = mnist_dataset.load_data()\n",
    "print(X_train.shape)"
   ]
  },
  {
   "cell_type": "code",
   "execution_count": null,
   "metadata": {},
   "outputs": [],
   "source": [
    "X_train=X_train.reshape((len(X_train), -1))\n",
    "X_test=X_test.reshape((len(X_test), -1))\n",
    "\n",
    "y_train=y_train.reshape((len(y_train), -1))\n",
    "y_test=y_test.reshape((len(y_test), -1))\n",
    "\n",
    "print(X_train.shape)\n",
    "print(y_train.shape)\n",
    "print(X_test.shape)\n",
    "print(y_test.shape)\n",
    "\n",
    "# Reduce dataset size\n",
    "X_train = X_train[:n_train]\n",
    "y_train = y_train[:n_train]\n",
    "X_test = X_test[:n_test]\n",
    "y_test = y_test[:n_test]\n",
    "\n",
    "from sklearn.preprocessing import normalize\n",
    "X_train = normalize(X_train)\n",
    "X_test = normalize(X_test)"
   ]
  },
  {
   "cell_type": "code",
   "execution_count": null,
   "metadata": {},
   "outputs": [],
   "source": [
    "print(X_train[0].shape)\n",
    "print(y_train.shape)\n",
    "print(X_test.shape)\n",
    "print(y_test.shape)"
   ]
  },
  {
   "cell_type": "code",
   "execution_count": null,
   "metadata": {},
   "outputs": [],
   "source": [
    "import pennylane as qml\n",
    "\n",
    "n_qubits = 8\n",
    "n_target_qubits=3\n",
    "n_inputs = n_qubits\n",
    "dev = qml.device(\"default.qubit\", wires=n_qubits)\n",
    "\n",
    "@qml.qnode(dev)\n",
    "def uncutcircuit(inputs, weights):\n",
    "    qml.AngleEmbedding(features=inputs[0], wires=range(n_qubits), rotation='Y')\n",
    "\n",
    "    for i in range(n_qubits):\n",
    "        qml.RY(weights[i], wires=i)\n",
    "\n",
    "    for i in range(n_qubits-1):\n",
    "        qml.CNOT(wires=[i,i+1])\n",
    "    qml.CNOT(wires=[n_qubits-1,0])\n",
    "\n",
    "    for i in range(n_qubits):\n",
    "        qml.RY(weights[i+n_qubits], wires=i)\n",
    "    \n",
    "    for i in range(n_qubits-1):\n",
    "        qml.CNOT(wires=[i,i+1])\n",
    "    qml.CNOT(wires=[n_qubits-1,0])\n",
    "    \n",
    "    return [qml.expval(qml.PauliZ(j)) for j in range(n_qubits)]\n",
    "    #return qml.expval(qml.PauliZ(0))"
   ]
  },
  {
   "cell_type": "code",
   "execution_count": null,
   "metadata": {},
   "outputs": [],
   "source": [
    "weights = np.random.uniform(high=2 * np.pi, size=(1, 2*n_qubits))\n",
    "weight_shapes = {\"weights\": 2*n_qubits}"
   ]
  },
  {
   "cell_type": "code",
   "execution_count": null,
   "metadata": {},
   "outputs": [],
   "source": [
    "quncutlayer = qml.qnn.KerasLayer(uncutcircuit, weight_shapes = weight_shapes, output_dim=n_qubits)"
   ]
  },
  {
   "cell_type": "code",
   "execution_count": null,
   "metadata": {},
   "outputs": [],
   "source": [
    "draw_input=np.random.uniform(high=2 * np.pi, size=(n_qubits))\n",
    "draw_weights=np.random.uniform(high=2 * np.pi, size=(2*n_qubits))\n",
    "\n",
    "reshaped_input = draw_input.reshape(1,n_qubits)\n",
    "draw_input=tuple(reshaped_input)\n",
    "print(qml.draw(uncutcircuit)(draw_input, draw_weights))"
   ]
  },
  {
   "cell_type": "code",
   "execution_count": null,
   "metadata": {},
   "outputs": [],
   "source": [
    "clayer_1 = tf.keras.layers.Dense(n_qubits)\n",
    "clayer_100 = tf.keras.layers.Dense(100)\n",
    "clayer_2 = tf.keras.layers.Dense(10, activation=\"softmax\")\n",
    "dropout= tf.keras.layers.Dropout(rate=droprate)\n",
    "uncutmodel = tf.keras.models.Sequential([clayer_1, quncutlayer, clayer_100, dropout, clayer_2])\n"
   ]
  },
  {
   "cell_type": "code",
   "execution_count": null,
   "metadata": {},
   "outputs": [],
   "source": [
    "opt = tf.keras.optimizers.Adam(learning_rate=0.01)\n",
    "# model.compile(opt, loss=\"mae\", metrics=[\"accuracy\"])\n",
    "\n",
    "uncutmodel.compile(loss='sparse_categorical_crossentropy',\n",
    "      optimizer=opt,\n",
    "      metrics=['accuracy'])"
   ]
  },
  {
   "cell_type": "code",
   "execution_count": null,
   "metadata": {},
   "outputs": [],
   "source": [
    "q_history = uncutmodel.fit(X_train, y_train, epochs=n_epochs, batch_size=1, validation_data=(X_test, y_test), verbose=2)"
   ]
  },
  {
   "cell_type": "code",
   "execution_count": null,
   "metadata": {},
   "outputs": [],
   "source": [
    "plt.style.use(\"seaborn-v0_8\")\n",
    "fig, (ax1, ax2) = plt.subplots(2, 1, figsize=(6, 9))\n",
    "\n",
    "ax1.plot(q_history.history[\"val_accuracy\"], label=\"Standard\")\n",
    "ax1.set_ylabel(\"Validation Accuracy\")\n",
    "ax1.set_ylim([0, 1])\n",
    "ax1.set_xlabel(\"Epoch\")\n",
    "ax1.legend()\n",
    "\n",
    "ax2.plot(q_history.history[\"accuracy\"], label=\"Standard\")\n",
    "ax2.set_ylabel(\"Training Accuracy\")\n",
    "ax2.set_ylim([0, 1])\n",
    "ax2.set_xlabel(\"Epoch\")\n",
    "ax2.legend()\n",
    "plt.tight_layout()\n",
    "plt.show()"
   ]
  },
  {
   "cell_type": "code",
   "execution_count": null,
   "metadata": {},
   "outputs": [],
   "source": [
    "uncutmodel.save_weights(\"uncutmodel.weights.h5\")"
   ]
  },
  {
   "cell_type": "code",
   "execution_count": null,
   "metadata": {},
   "outputs": [],
   "source": [
    "def generate_quantum_string(qubits, layers):\n",
    "    circuit = []\n",
    "    ry_counter = 1  # Start counting from 1\n",
    "    for i in range(qubits): #This is neccessary as circuit_to_qasm outputs a set of ry for embedding, this simulates it and is neccessary for the logic of the string_sort\n",
    "            circuit.append(f\"ry({ry_counter}) q[{i}];\")\n",
    "\n",
    "    for layer in range(layers):\n",
    "        # ry gates with counter-based angle\n",
    "        for i in range(qubits):\n",
    "            circuit.append(f\"ry({ry_counter}) q[{i}];\")\n",
    "            ry_counter += 1\n",
    "\n",
    "        # cx gates in a ring\n",
    "        for i in range(qubits):\n",
    "            circuit.append(f\"cx q[{i}],q[{(i + 1) % qubits}];\")\n",
    "\n",
    "    # Final measurement\n",
    "    for i in range(qubits):\n",
    "        circuit.append(f\"measure q[{i}] -> c[{i}];\")\n",
    "\n",
    "    return \"\\n\".join(circuit)"
   ]
  },
  {
   "cell_type": "code",
   "execution_count": null,
   "metadata": {},
   "outputs": [],
   "source": [
    "t=generate_quantum_string(n_qubits,n_layers)\n",
    "print(t)"
   ]
  },
  {
   "cell_type": "code",
   "execution_count": null,
   "metadata": {},
   "outputs": [],
   "source": [
    "patterns = {\n",
    "    'rxyz': (re.compile(r'r(y|z|x)\\((-?\\d+(\\.\\d+)?)\\) q\\[(\\d+)\\];'), lambda m: int(m.group(4))),\n",
    "    'ht-pauli': (re.compile(r'(h|t|x|y|z) q\\[(\\d+)\\];'), lambda m: int(m.group(2))),\n",
    "    \n",
    "    'cx': (re.compile(r'cx q\\[(\\d+)\\],q\\[(\\d+)\\];'), lambda m: (int(m.group(1)), int(m.group(2)))),\n",
    "    'id': (re.compile(r'id q\\[(\\d+)\\],q\\[(\\d+)\\];'), lambda m: ((int(m.group(1)), int(m.group(2))),))\n",
    "}\n",
    "\n",
    "\n",
    "func_map = {\n",
    "    'ry': qml.RY,\n",
    "    'rx': qml.RX,\n",
    "    'rz': qml.RZ,\n",
    "    'cx': qml.CNOT,\n",
    "    'id': qml.Identity,\n",
    "    'h': qml.Hadamard,\n",
    "    'x': qml.PauliX,\n",
    "    'y': qml.PauliY,\n",
    "    'z': qml.PauliZ,\n",
    "    't': qml.T\n",
    "}"
   ]
  },
  {
   "cell_type": "code",
   "execution_count": null,
   "metadata": {},
   "outputs": [],
   "source": [
    "def string_sort(input_str, num_layers):\n",
    "    temp_string = \"\"\n",
    "    split_str = input_str.splitlines()\n",
    "    counters=0\n",
    "    ry_ctr=0\n",
    "\n",
    "    for i in range(num_layers):\n",
    "        for string in split_str:\n",
    "            line = string.strip()\n",
    "            for key, (pattern, args_func) in patterns.items():\n",
    "                match = pattern.match(line)\n",
    "                if match:\n",
    "                    wire = args_func(match)\n",
    "                    if isinstance(wire, tuple):  # Check if wire is a tuple\n",
    "                        wire_list = wire\n",
    "                        position_not_found = True\n",
    "                        reverse_string = \"\"\n",
    "                        for gate in reversed(temp_string.split(\"\\n\")):\n",
    "                            gate = gate.strip()\n",
    "                            if gate:\n",
    "                                for p, af in patterns.values():\n",
    "                                    gate_match = p.match(gate)\n",
    "                                    if gate_match:\n",
    "                                        gate_wire = af(gate_match)\n",
    "                                        if not isinstance(gate_wire, tuple):\n",
    "                                            gate_wire = (gate_wire,)  # Convert to tuple if not already\n",
    "                                        if any(w in wire_list for w in gate_wire) and position_not_found:\n",
    "                                            reverse_string += line + \"\\n\" + gate + \"\\n\"\n",
    "                                            position_not_found = False\n",
    "                                        else:\n",
    "                                            reverse_string += gate + \"\\n\"\n",
    "                                        break\n",
    "                                else:\n",
    "                                    reverse_string += gate + \"\\n\"\n",
    "                        if position_not_found:\n",
    "                            reverse_string += line + \"\\n\"\n",
    "                        temp_string = \"\\n\".join(reversed(reverse_string.split(\"\\n\"))).strip()+\"\\n\"\n",
    "                        break\n",
    "                    elif 'r' in line:\n",
    "                        if ry_ctr>=n_qubits:\n",
    "                            line = f\"r{match.group(1)}({counters}) q[{match.group(4)}];\"\n",
    "                            counters += 1\n",
    "                            temp_string += line + \"\\n\"\n",
    "                        else:\n",
    "                            ry_ctr+=1\n",
    "                    else:\n",
    "                        temp_string += string + '\\n'\n",
    "    return temp_string.strip()"
   ]
  },
  {
   "cell_type": "code",
   "execution_count": null,
   "metadata": {},
   "outputs": [],
   "source": [
    "sorted=string_sort(t, 1)\n",
    "print(sorted)"
   ]
  },
  {
   "cell_type": "code",
   "execution_count": null,
   "metadata": {},
   "outputs": [],
   "source": [
    "def cut_placement(input_str, target_qubits):\n",
    "    temp_string = \"\"\n",
    "    subwires = set()\n",
    "    split_str = input_str.splitlines()\n",
    "    subwires_wire_list = []  # Initialize as an empty list\n",
    "    for string in split_str:\n",
    "        line = string.strip()\n",
    "        for pattern, args_func in patterns.values():\n",
    "            match = pattern.match(line)\n",
    "            if match:\n",
    "                wire = args_func(match)\n",
    "                if isinstance(wire, int):\n",
    "                    wire = (wire,)\n",
    "                else:\n",
    "                    wire = tuple(wire)\n",
    "                if len(subwires.union(wire)) <= target_qubits:\n",
    "                    subwires.update(wire)\n",
    "                    temp_string += string + '\\n'\n",
    "                else:\n",
    "                    temp_string += \"CUT HERE\\n\" + string + '\\n'\n",
    "                    subwires_wire_list.append(list(subwires))  # Record the subwires before cutting\n",
    "                    subwires = set(wire)  # Reset subwires to the current wire\n",
    "    if subwires:  # Append any remaining subwires after the loop\n",
    "        subwires_wire_list.append(list(subwires))\n",
    "    return temp_string.strip(), subwires_wire_list"
   ]
  },
  {
   "cell_type": "code",
   "execution_count": null,
   "metadata": {},
   "outputs": [],
   "source": [
    "cut, wire_list=cut_placement(sorted,n_target_qubits)\n",
    "print(cut+'\\n')\n",
    "print(wire_list)"
   ]
  },
  {
   "cell_type": "code",
   "execution_count": null,
   "metadata": {},
   "outputs": [],
   "source": [
    "def build_sub(input_str, subwires):\n",
    "    target_qubits=len(subwires)\n",
    "    n_inputs=len(subwires)\n",
    "    dev = qml.device('default.qubit', wires=target_qubits)\n",
    "    @qml.qnode(dev)\n",
    "    def circuit(inputs, weights):\n",
    "        qml.AngleEmbedding(features=inputs[0], wires=range(n_qubits), rotation='Y')\n",
    "        for line in input_str.splitlines():\n",
    "            line = line.strip()\n",
    "            for key, (pattern, args_func) in patterns.items():\n",
    "                match = pattern.match(line)\n",
    "                if match:\n",
    "                    args = args_func(match)\n",
    "                    if isinstance(args, int) and 'r' in line:\n",
    "                        func_map[f\"r{match.group(1)}\"](weights[int(match.group(2))], subwires.index(args))  # Do not pass 'inputs' to other function\n",
    "                    elif not isinstance(args, int):\n",
    "                        wires=[]\n",
    "                        for x in args:\n",
    "                            wires.append(subwires.index(x))\n",
    "                        func_map[key](wires)\n",
    "                    else:\n",
    "                        func_map[match.group(1)](subwires.index(args))\n",
    "                        \n",
    "        return [qml.expval(qml.PauliZ(j)) for j in range(target_qubits)]\n",
    "    return circuit"
   ]
  },
  {
   "cell_type": "code",
   "execution_count": null,
   "metadata": {},
   "outputs": [],
   "source": [
    "def build_model(input_shape, classical_before, neurons_before, activation_before, classical_after, neurons_after, activation_after, qlayer_string, subwires, weight_shapes, weights):\n",
    "    unique_sets = set(element for sublist in subwires for element in sublist)\n",
    "    oldqubits = len(unique_sets)\n",
    "    inputs = tf.keras.Input(shape=input_shape)\n",
    "    x = inputs\n",
    "\n",
    "    for i in range(classical_before):\n",
    "        layer=tf.keras.layers.Dense(neurons_before[i], activation=activation_before[i])\n",
    "        x=layer(x)\n",
    "\n",
    "\n",
    "    states = tf.split(x, num_or_size_splits=oldqubits, axis=1)\n",
    "    states_list = list(states)\n",
    "    \n",
    "\n",
    "    subcircuits=qlayer_string.split(\"CUT HERE\")\n",
    "    draw_input=np.random.uniform(high=2 * np.pi, size=(oldqubits))\n",
    "    draw_weights=np.random.uniform(high=2 * np.pi, size=(2*oldqubits))\n",
    "    \n",
    "    print(draw_input)\n",
    "    print(draw_weights)\n",
    "    \n",
    "    wire_list_ctr = 0\n",
    "    for str in subcircuits:\n",
    "        subwire_list=subwires[wire_list_ctr] #wires of that subcircuit\n",
    "        target_qubits=len(subwire_list)\n",
    "    \n",
    "        substate_ctr = 0 #for updating states later\n",
    "        need_states = [states_list[i] for i in subwire_list] #get states needed for wires of subcircuit\n",
    "        need_inputs_draw = np.array([draw_input[i] for i in subwire_list])\n",
    "        reshaped_input = need_inputs_draw.reshape(1,target_qubits)\n",
    "        need_inputs_draw=tuple(reshaped_input)\n",
    "        \n",
    "        # Ensuring the tensor is concatenated correctly\n",
    "        need_states_list_32=[]\n",
    "        for state in need_states:\n",
    "            need_state_32=tf.cast(state, tf.float32)\n",
    "            need_states_list_32.append(need_state_32)\n",
    "        print(f\"X before shape: {len(need_states_list_32)}\")\n",
    "        print(f\"X before type: {type(need_states_list_32)}\")\n",
    "        x = tf.concat(need_states_list_32, axis=1)\n",
    "        print(f\"X shape: {x.shape}\")\n",
    "        print(f\"X type: {type(x)}\")\n",
    "        print(f\" X: {x}\")\n",
    "        print(f\" randdraw: {need_inputs_draw}\")\n",
    "\n",
    "        #build qlayer\n",
    "        circuit = build_sub(str, subwire_list)\n",
    "        print(subwire_list)\n",
    "        print(need_inputs_draw)\n",
    "        print(qml.draw(circuit)(need_inputs_draw, draw_weights))\n",
    "\n",
    "        qlayer = qml.qnn.KerasLayer(circuit, weight_shapes, output_dim=target_qubits)\n",
    "\n",
    "        #run layer and get states\n",
    "        x = qlayer(x)\n",
    "        substates = tf.split(x, num_or_size_splits=len(subwire_list), axis=1)\n",
    "        substates_list = list(substates)\n",
    "        \n",
    "        for wire in subwire_list:\n",
    "            states_list[wire] = substates_list[substate_ctr]\n",
    "            substate_ctr += 1\n",
    "        \n",
    "        wire_list_ctr += 1\n",
    "\n",
    "    # reassemble states\n",
    "    states_list_32=[]\n",
    "    for state in states_list:\n",
    "        state_32=tf.cast(state, tf.float32)\n",
    "        states_list_32.append(state_32)\n",
    "    x = tf.concat(states_list, axis=1)\n",
    "    \n",
    "    for i in range(classical_after):\n",
    "        layer=tf.keras.layers.Dense(neurons_after[i], activation=activation_after[i])\n",
    "        x=layer(x)\n",
    "    \n",
    "    outputs = x\n",
    "    return tf.keras.Model(inputs=inputs, outputs=outputs)"
   ]
  },
  {
   "cell_type": "code",
   "execution_count": null,
   "metadata": {
    "scrolled": true
   },
   "outputs": [],
   "source": [
    "cutmodel = build_model((784,),\n",
    "                       1,\n",
    "                       [n_qubits],\n",
    "                       [None],\n",
    "                       1,\n",
    "                       [10],\n",
    "                       ['softmax'],\n",
    "                       cut,\n",
    "                       wire_list,\n",
    "                       weight_shapes,\n",
    "                       weights)\n",
    "\n",
    "opt = tf.keras.optimizers.Adam(learning_rate=0.01)\n",
    "\n",
    "cutmodel.compile(loss='sparse_categorical_crossentropy',\n",
    "      optimizer=opt,\n",
    "      metrics=['accuracy'])"
   ]
  },
  {
   "cell_type": "code",
   "execution_count": null,
   "metadata": {},
   "outputs": [],
   "source": [
    "cutmodel.summary()"
   ]
  },
  {
   "cell_type": "code",
   "execution_count": null,
   "metadata": {
    "scrolled": true
   },
   "outputs": [],
   "source": [
    "cut_start_time=time.time()\n",
    "q_history = cutmodel.fit(X_train, y_train, epochs=n_epochs, batch_size=1, validation_data=(X_test, y_test), verbose=2)\n",
    "cut_end_time=time.time()"
   ]
  },
  {
   "cell_type": "code",
   "execution_count": null,
   "metadata": {},
   "outputs": [],
   "source": [
    "cut_runtime=cut_end_time-cut_start_time\n",
    "print(cut_runtime)"
   ]
  },
  {
   "cell_type": "code",
   "execution_count": null,
   "metadata": {},
   "outputs": [],
   "source": [
    "plt.style.use(\"seaborn-v0_8\")\n",
    "fig, (ax1, ax2) = plt.subplots(2, 1, figsize=(6, 9))\n",
    "\n",
    "ax1.plot(q_history.history[\"val_accuracy\"], label=\"Standard\")\n",
    "ax1.set_ylabel(\"Validation Accuracy\")\n",
    "ax1.set_ylim([0, 1])\n",
    "ax1.set_xlabel(\"Epoch\")\n",
    "ax1.legend()\n",
    "\n",
    "ax2.plot(q_history.history[\"accuracy\"], label=\"Standard\")\n",
    "ax2.set_ylabel(\"Training Accuracy\")\n",
    "ax2.set_ylim([0, 1])\n",
    "ax2.set_xlabel(\"Epoch\")\n",
    "ax2.legend()\n",
    "plt.tight_layout()\n",
    "plt.show()"
   ]
  },
  {
   "cell_type": "code",
   "execution_count": null,
   "metadata": {},
   "outputs": [],
   "source": [
    "cutmodel.save_weights(\"8-3cutmodel_REMOTE.weights.h5\")"
   ]
  },
  {
   "cell_type": "code",
   "execution_count": null,
   "metadata": {},
   "outputs": [],
   "source": [
    "import pandas as pd\n",
    "\n",
    "hist_df = pd.DataFrame(q_history.history)\n",
    "# or save to csv: \n",
    "hist_csv_file = '30-5cut.csv'\n",
    "with open(hist_csv_file, mode='w') as f:\n",
    "    hist_df.to_csv(f)"
   ]
  },
  {
   "cell_type": "code",
   "execution_count": null,
   "metadata": {},
   "outputs": [],
   "source": []
  }
 ],
 "metadata": {
  "kernelspec": {
   "display_name": "Python 3",
   "language": "python",
   "name": "python3"
  },
  "language_info": {
   "codemirror_mode": {
    "name": "ipython",
    "version": 3
   },
   "file_extension": ".py",
   "mimetype": "text/x-python",
   "name": "python",
   "nbconvert_exporter": "python",
   "pygments_lexer": "ipython3",
   "version": "3.9.22"
  }
 },
 "nbformat": 4,
 "nbformat_minor": 4
}
